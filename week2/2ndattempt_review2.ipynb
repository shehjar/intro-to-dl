{
 "cells": [
  {
   "cell_type": "markdown",
   "metadata": {},
   "source": [
    "### Import Libraries"
   ]
  },
  {
   "cell_type": "code",
   "execution_count": 1,
   "metadata": {},
   "outputs": [],
   "source": [
    "import matplotlib.pyplot as plt\n",
    "import numpy as np\n",
    "import tensorflow as tf\n",
    "from random import shuffle\n",
    "import time\n",
    "from sklearn.metrics import roc_auc_score\n",
    "import math\n",
    "%matplotlib inline"
   ]
  },
  {
   "cell_type": "markdown",
   "metadata": {},
   "source": [
    "### Load Data"
   ]
  },
  {
   "cell_type": "code",
   "execution_count": 2,
   "metadata": {},
   "outputs": [
    {
     "name": "stderr",
     "output_type": "stream",
     "text": [
      "C:\\Users\\shekaul\\AppData\\Local\\Continuum\\anaconda3\\envs\\coursera\\lib\\site-packages\\h5py\\__init__.py:34: FutureWarning: Conversion of the second argument of issubdtype from `float` to `np.floating` is deprecated. In future, it will be treated as `np.float64 == np.dtype(float).type`.\n",
      "  from ._conv import register_converters as _register_converters\n",
      "Using TensorFlow backend.\n"
     ]
    },
    {
     "name": "stdout",
     "output_type": "stream",
     "text": [
      "Training set shape :: (50000, 28, 28), (50000,)\n",
      "Validation set shape :: (10000, 28, 28), (10000,)\n",
      "Test set shape :: (10000, 28, 28), (10000,)\n"
     ]
    }
   ],
   "source": [
    "from preprocessed_mnist import load_dataset\n",
    "X_train, y_train, X_val, y_val, X_test, y_test = load_dataset()\n",
    "print('Training set shape :: {}, {}'.format(X_train.shape, y_train.shape))\n",
    "print('Validation set shape :: {}, {}'.format(X_val.shape, y_val.shape))\n",
    "print('Test set shape :: {}, {}'.format(X_test.shape, y_test.shape))"
   ]
  },
  {
   "cell_type": "markdown",
   "metadata": {},
   "source": [
    "### Define constants and hyperparameters"
   ]
  },
  {
   "cell_type": "code",
   "execution_count": 3,
   "metadata": {},
   "outputs": [],
   "source": [
    "NUM_EPOCHS = 25\n",
    "BATCH_SIZE = 128\n",
    "LEARNING_RATE = 0.001\n",
    "NUM_CLASSES = 10\n",
    "PIXELS = 28 * 28\n",
    "HIDDEN_UNITS1 = 250\n",
    "HIDDEN_UNITS2 = 150\n",
    "PRINT_STEP = 100"
   ]
  },
  {
   "cell_type": "markdown",
   "metadata": {},
   "source": [
    "### Define graph"
   ]
  },
  {
   "cell_type": "code",
   "execution_count": 5,
   "metadata": {},
   "outputs": [
    {
     "name": "stdout",
     "output_type": "stream",
     "text": [
      "1.2.1\n"
     ]
    }
   ],
   "source": [
    "print(tf.__version__)"
   ]
  },
  {
   "cell_type": "code",
   "execution_count": 7,
   "metadata": {},
   "outputs": [],
   "source": [
    "g = tf.Graph()\n",
    "\n",
    "with g.as_default():\n",
    "    X_placeholder = tf.placeholder(name = 'X', dtype = tf.float64, shape = (None, PIXELS))\n",
    "    y_placeholder = tf.placeholder(name = 'y', dtype = tf.int64, shape = (None))\n",
    "    \n",
    "    with tf.variable_scope('hidden1', reuse = None):\n",
    "        weights = tf.get_variable(name = 'weights', shape = [PIXELS, HIDDEN_UNITS1], dtype = tf.float64, \n",
    "                                  initializer = tf.contrib.layers.variance_scaling_initializer())\n",
    "        biases = tf.get_variable(name='biases', shape = [HIDDEN_UNITS1], dtype = tf.float64,\n",
    "                                  initializer = tf.zeros_initializer())\n",
    "        hidden1 = tf.nn.relu(tf.matmul(X_placeholder, weights) + biases)\n",
    "  \n",
    "    with tf.variable_scope('hidden2', reuse = None):\n",
    "        weights = tf.get_variable(name = 'weights', shape = [HIDDEN_UNITS1, HIDDEN_UNITS2], dtype = tf.float64, \n",
    "                                  initializer = tf.contrib.layers.variance_scaling_initializer())    \n",
    "        biases = tf.get_variable(name='biases', shape = [HIDDEN_UNITS2], dtype = tf.float64,\n",
    "                                  initializer = tf.zeros_initializer())                         \n",
    "        hidden2 = tf.nn.relu(tf.matmul(hidden1, weights) + biases)\n",
    "\n",
    "    with tf.variable_scope('softmax_linear', reuse = None):\n",
    "        weights = tf.get_variable(name = 'weights', shape = [HIDDEN_UNITS2, NUM_CLASSES], dtype = tf.float64,\n",
    "                                  initializer = tf.contrib.layers.xavier_initializer())        \n",
    "        biases = tf.get_variable(name='biases', shape = [NUM_CLASSES], dtype = tf.float64,\n",
    "                                  initializer = tf.zeros_initializer())\n",
    "        logits = tf.matmul(hidden2, weights) + biases\n",
    "    \n",
    "    loss = tf.losses.sparse_softmax_cross_entropy(labels = y_placeholder, logits = logits)\n",
    "    \n",
    "    optimizer = tf.train.AdamOptimizer()   \n",
    "    \n",
    "    train_op = optimizer.minimize(loss)\n",
    "    \n",
    "    correct_prediction = tf.equal(tf.argmax(logits,1), y_placeholder)\n",
    "    \n",
    "    accuracy = tf.reduce_mean(tf.cast(correct_prediction, tf.float32))\n",
    "    \n",
    "    init = tf.global_variables_initializer()"
   ]
  },
  {
   "cell_type": "markdown",
   "metadata": {},
   "source": [
    "### Defin helper Functions"
   ]
  },
  {
   "cell_type": "code",
   "execution_count": 8,
   "metadata": {},
   "outputs": [],
   "source": [
    "# Function to reshape the input into suitable shape\n",
    "def flatten_matrix(X):\n",
    "    return X.reshape((X.shape[0], -1))\n",
    "\n",
    "# Function to create mini batches\n",
    "def create_batches(X, Y, batch_size):\n",
    "    m =  X.shape[0]\n",
    "    batches = []    \n",
    "    permutations = np.random.permutation(m)    \n",
    "    Shuffled_X = X[permutations, :]\n",
    "    Shuffled_Y = Y[permutations]\n",
    "    n = math.floor(m/batch_size)    \n",
    "    for i in range(n):\n",
    "        x = Shuffled_X[i * batch_size: (i + 1) * batch_size, :]\n",
    "        y = Shuffled_Y[i * batch_size: (i + 1) * batch_size]        \n",
    "        batch = (x, y)        \n",
    "        batches.append(batch)  \n",
    "    if m % batch_size != 0:\n",
    "        index = (batch_size * n)\n",
    "        x = X[index :, :]\n",
    "        y = Y[index :]\n",
    "        batch =(x, y)        \n",
    "        batches.append(batch)\n",
    "    return batches\n",
    "\n",
    "# Function to encode labels to one hot encoding\n",
    "def one_hot_encoding(y, num_classes):\n",
    "    result = np.zeros((len(y), num_classes))\n",
    "    for i in range(len(y)):\n",
    "        result[i, y[i]] = 1\n",
    "    return result"
   ]
  },
  {
   "cell_type": "markdown",
   "metadata": {},
   "source": [
    "### Train the Model"
   ]
  },
  {
   "cell_type": "code",
   "execution_count": 9,
   "metadata": {},
   "outputs": [
    {
     "name": "stdout",
     "output_type": "stream",
     "text": [
      "Epoch :: 1, Batch :: 100, Loss :: 0.428 (0.92 seconds)\n",
      "Epoch :: 1, Batch :: 200, Loss :: 0.217 (1.68 seconds)\n",
      "Epoch :: 1, Batch :: 300, Loss :: 0.160 (2.38 seconds)\n",
      "Epoch :: 2, Batch :: 100, Loss :: 0.131 (4.74 seconds)\n",
      "Epoch :: 2, Batch :: 200, Loss :: 0.110 (5.55 seconds)\n",
      "Epoch :: 2, Batch :: 300, Loss :: 0.059 (6.23 seconds)\n",
      "Epoch :: 3, Batch :: 100, Loss :: 0.045 (8.62 seconds)\n",
      "Epoch :: 3, Batch :: 200, Loss :: 0.036 (9.33 seconds)\n",
      "Epoch :: 3, Batch :: 300, Loss :: 0.071 (10.06 seconds)\n",
      "Epoch :: 4, Batch :: 100, Loss :: 0.025 (12.48 seconds)\n",
      "Epoch :: 4, Batch :: 200, Loss :: 0.051 (13.18 seconds)\n",
      "Epoch :: 4, Batch :: 300, Loss :: 0.112 (13.92 seconds)\n",
      "Epoch :: 5, Batch :: 100, Loss :: 0.029 (16.18 seconds)\n",
      "Epoch :: 5, Batch :: 200, Loss :: 0.071 (16.88 seconds)\n",
      "Epoch :: 5, Batch :: 300, Loss :: 0.114 (17.57 seconds)\n",
      "Epoch :: 6, Batch :: 100, Loss :: 0.028 (19.88 seconds)\n",
      "Epoch :: 6, Batch :: 200, Loss :: 0.013 (20.63 seconds)\n",
      "Epoch :: 6, Batch :: 300, Loss :: 0.033 (21.31 seconds)\n",
      "Epoch :: 7, Batch :: 100, Loss :: 0.022 (23.67 seconds)\n",
      "Epoch :: 7, Batch :: 200, Loss :: 0.013 (24.47 seconds)\n",
      "Epoch :: 7, Batch :: 300, Loss :: 0.027 (25.17 seconds)\n",
      "Epoch :: 8, Batch :: 100, Loss :: 0.022 (27.43 seconds)\n",
      "Epoch :: 8, Batch :: 200, Loss :: 0.031 (28.14 seconds)\n",
      "Epoch :: 8, Batch :: 300, Loss :: 0.003 (28.84 seconds)\n",
      "Epoch :: 9, Batch :: 100, Loss :: 0.006 (31.07 seconds)\n",
      "Epoch :: 9, Batch :: 200, Loss :: 0.007 (31.85 seconds)\n",
      "Epoch :: 9, Batch :: 300, Loss :: 0.003 (32.55 seconds)\n",
      "Epoch :: 10, Batch :: 100, Loss :: 0.002 (34.99 seconds)\n",
      "Epoch :: 10, Batch :: 200, Loss :: 0.007 (35.70 seconds)\n",
      "Epoch :: 10, Batch :: 300, Loss :: 0.042 (36.39 seconds)\n",
      "Epoch :: 11, Batch :: 100, Loss :: 0.018 (38.63 seconds)\n",
      "Epoch :: 11, Batch :: 200, Loss :: 0.007 (39.34 seconds)\n",
      "Epoch :: 11, Batch :: 300, Loss :: 0.008 (40.03 seconds)\n",
      "Epoch :: 12, Batch :: 100, Loss :: 0.063 (42.28 seconds)\n",
      "Epoch :: 12, Batch :: 200, Loss :: 0.025 (42.97 seconds)\n",
      "Epoch :: 12, Batch :: 300, Loss :: 0.023 (43.67 seconds)\n",
      "Epoch :: 13, Batch :: 100, Loss :: 0.014 (45.91 seconds)\n",
      "Epoch :: 13, Batch :: 200, Loss :: 0.003 (46.63 seconds)\n",
      "Epoch :: 13, Batch :: 300, Loss :: 0.005 (47.32 seconds)\n",
      "Epoch :: 14, Batch :: 100, Loss :: 0.000 (49.56 seconds)\n",
      "Epoch :: 14, Batch :: 200, Loss :: 0.012 (50.26 seconds)\n",
      "Epoch :: 14, Batch :: 300, Loss :: 0.004 (50.95 seconds)\n",
      "Epoch :: 15, Batch :: 100, Loss :: 0.001 (53.19 seconds)\n",
      "Epoch :: 15, Batch :: 200, Loss :: 0.010 (53.91 seconds)\n",
      "Epoch :: 15, Batch :: 300, Loss :: 0.037 (54.67 seconds)\n",
      "Epoch :: 16, Batch :: 100, Loss :: 0.008 (57.07 seconds)\n",
      "Epoch :: 16, Batch :: 200, Loss :: 0.004 (57.78 seconds)\n",
      "Epoch :: 16, Batch :: 300, Loss :: 0.001 (58.48 seconds)\n",
      "Epoch :: 17, Batch :: 100, Loss :: 0.001 (60.70 seconds)\n",
      "Epoch :: 17, Batch :: 200, Loss :: 0.001 (61.45 seconds)\n",
      "Epoch :: 17, Batch :: 300, Loss :: 0.001 (62.14 seconds)\n",
      "Epoch :: 18, Batch :: 100, Loss :: 0.004 (64.39 seconds)\n",
      "Epoch :: 18, Batch :: 200, Loss :: 0.001 (65.09 seconds)\n",
      "Epoch :: 18, Batch :: 300, Loss :: 0.001 (65.77 seconds)\n",
      "Epoch :: 19, Batch :: 100, Loss :: 0.001 (68.12 seconds)\n",
      "Epoch :: 19, Batch :: 200, Loss :: 0.004 (68.91 seconds)\n",
      "Epoch :: 19, Batch :: 300, Loss :: 0.007 (69.59 seconds)\n",
      "Epoch :: 20, Batch :: 100, Loss :: 0.051 (71.84 seconds)\n",
      "Epoch :: 20, Batch :: 200, Loss :: 0.010 (72.55 seconds)\n",
      "Epoch :: 20, Batch :: 300, Loss :: 0.001 (73.25 seconds)\n",
      "Epoch :: 21, Batch :: 100, Loss :: 0.002 (75.50 seconds)\n",
      "Epoch :: 21, Batch :: 200, Loss :: 0.001 (76.22 seconds)\n",
      "Epoch :: 21, Batch :: 300, Loss :: 0.019 (76.92 seconds)\n",
      "Epoch :: 22, Batch :: 100, Loss :: 0.001 (79.17 seconds)\n",
      "Epoch :: 22, Batch :: 200, Loss :: 0.014 (79.90 seconds)\n",
      "Epoch :: 22, Batch :: 300, Loss :: 0.001 (80.61 seconds)\n",
      "Epoch :: 23, Batch :: 100, Loss :: 0.002 (82.83 seconds)\n",
      "Epoch :: 23, Batch :: 200, Loss :: 0.016 (83.54 seconds)\n",
      "Epoch :: 23, Batch :: 300, Loss :: 0.056 (84.27 seconds)\n",
      "Epoch :: 24, Batch :: 100, Loss :: 0.002 (86.50 seconds)\n",
      "Epoch :: 24, Batch :: 200, Loss :: 0.001 (87.20 seconds)\n",
      "Epoch :: 24, Batch :: 300, Loss :: 0.000 (87.92 seconds)\n",
      "Epoch :: 25, Batch :: 100, Loss :: 0.025 (90.33 seconds)\n",
      "Epoch :: 25, Batch :: 200, Loss :: 0.028 (91.11 seconds)\n",
      "Epoch :: 25, Batch :: 300, Loss :: 0.008 (91.84 seconds)\n"
     ]
    }
   ],
   "source": [
    "X_train = flatten_matrix(X_train)\n",
    "X_test = flatten_matrix(X_test)\n",
    "X_val = flatten_matrix(X_val)\n",
    "sess = tf.Session(graph = g)\n",
    "sess.run(init)\n",
    "train_losses = []\n",
    "test_losses = []\n",
    "start_time = time.time()\n",
    "for i in range(NUM_EPOCHS):\n",
    "    batch = 0    \n",
    "    for X_tr, y_tr in create_batches(X_train, y_train, BATCH_SIZE):\n",
    "        batch = batch + 1\n",
    "        feed_dict = {'X:0' : X_tr, 'y:0' : y_tr}\n",
    "        _, train_loss = sess.run([train_op, loss], feed_dict = feed_dict)\n",
    "        duration = time.time() - start_time\n",
    "        if batch % PRINT_STEP == 0:\n",
    "            #train_losses.append(train_loss)\n",
    "            print(\"Epoch :: {}, Batch :: {}, Loss :: {:.3f} ({:.2f} seconds)\".format(i + 1, batch, train_loss, \n",
    "                                                                                             duration))\n",
    "    test_losses.append(sess.run(loss, feed_dict = {'X:0' : X_test, 'y:0' : y_test}))\n",
    "    train_losses.append(sess.run(loss, feed_dict = {'X:0' : X_train, 'y:0' : y_train}))       "
   ]
  },
  {
   "cell_type": "markdown",
   "metadata": {},
   "source": [
    "### Print accuracy of Model"
   ]
  },
  {
   "cell_type": "code",
   "execution_count": 10,
   "metadata": {},
   "outputs": [
    {
     "name": "stdout",
     "output_type": "stream",
     "text": [
      "Training Accuracy ::0.9985600113868713\n"
     ]
    }
   ],
   "source": [
    "feed_dict = {'X:0' : X_train,\n",
    "            'y:0' : y_train}\n",
    "acc = sess.run(accuracy, feed_dict = feed_dict)\n",
    "print('Training Accuracy ::{}'.format(acc))"
   ]
  },
  {
   "cell_type": "code",
   "execution_count": 11,
   "metadata": {},
   "outputs": [
    {
     "name": "stdout",
     "output_type": "stream",
     "text": [
      "Validation Accuracy ::0.9789000153541565\n"
     ]
    }
   ],
   "source": [
    "feed_dict = {'X:0' : X_val,\n",
    "            'y:0' : y_val}\n",
    "acc = sess.run(accuracy, feed_dict = feed_dict)\n",
    "print('Validation Accuracy ::{}'.format(acc))"
   ]
  },
  {
   "cell_type": "code",
   "execution_count": 12,
   "metadata": {},
   "outputs": [
    {
     "name": "stdout",
     "output_type": "stream",
     "text": [
      "Test Accuracy ::0.9805999994277954\n"
     ]
    }
   ],
   "source": [
    "feed_dict = {'X:0' : X_test,\n",
    "            'y:0' : y_test}\n",
    "acc = sess.run(accuracy, feed_dict = feed_dict)\n",
    "print('Test Accuracy ::{}'.format(acc))"
   ]
  },
  {
   "cell_type": "markdown",
   "metadata": {},
   "source": [
    "### Plot loss during training\n",
    "Loss is noisy cause we are using minibatches. For smoothly decreasing loss change batch size to sample size"
   ]
  },
  {
   "cell_type": "code",
   "execution_count": 13,
   "metadata": {},
   "outputs": [
    {
     "data": {
      "text/plain": [
       "<matplotlib.legend.Legend at 0x1e058eb8>"
      ]
     },
     "execution_count": 13,
     "metadata": {},
     "output_type": "execute_result"
    },
    {
     "data": {
      "image/png": "[encoded data removed]",
      "text/plain": [
       "<matplotlib.figure.Figure at 0x1dd7f7f0>"
      ]
     },
     "metadata": {},
     "output_type": "display_data"
    }
   ],
   "source": [
    "plt.plot(train_losses)\n",
    "plt.plot(test_losses)\n",
    "plt.legend(['train loss', 'test loss'])"
   ]
  },
  {
   "cell_type": "markdown",
   "metadata": {},
   "source": [
    "### Print ROC AUC Score"
   ]
  },
  {
   "cell_type": "code",
   "execution_count": 14,
   "metadata": {},
   "outputs": [
    {
     "name": "stdout",
     "output_type": "stream",
     "text": [
      "Training AUC ROC Score :: 1.00\n"
     ]
    }
   ],
   "source": [
    "predictions = sess.run(logits, feed_dict = {'X:0' : X_train})\n",
    "predictions = one_hot_encoding(np.argmax(predictions, axis = 1), NUM_CLASSES)\n",
    "training_score = roc_auc_score(one_hot_encoding(y_train, NUM_CLASSES), predictions)\n",
    "print('Training AUC ROC Score :: {:.2f}'.format(training_score))"
   ]
  },
  {
   "cell_type": "code",
   "execution_count": 15,
   "metadata": {},
   "outputs": [
    {
     "name": "stdout",
     "output_type": "stream",
     "text": [
      "Validation AUC ROC Score :: 0.99\n"
     ]
    }
   ],
   "source": [
    "predictions = sess.run(logits, feed_dict = {'X:0' : X_val})\n",
    "predictions = one_hot_encoding(np.argmax(predictions, axis = 1), NUM_CLASSES)\n",
    "training_score = roc_auc_score(one_hot_encoding(y_val, NUM_CLASSES), predictions)\n",
    "print('Validation AUC ROC Score :: {:.2f}'.format(training_score))\n"
   ]
  },
  {
   "cell_type": "code",
   "execution_count": 16,
   "metadata": {},
   "outputs": [
    {
     "name": "stdout",
     "output_type": "stream",
     "text": [
      "Test AUC ROC Score :: 0.99\n"
     ]
    }
   ],
   "source": [
    "predictions = sess.run(logits, feed_dict = {'X:0' : X_test})\n",
    "predictions = one_hot_encoding(np.argmax(predictions, axis = 1), NUM_CLASSES)\n",
    "training_score = roc_auc_score(one_hot_encoding(y_test, NUM_CLASSES), predictions)\n",
    "print('Test AUC ROC Score :: {:.2f}'.format(training_score))"
   ]
  },
  {
   "cell_type": "code",
   "execution_count": null,
   "metadata": {},
   "outputs": [],
   "source": []
  }
 ],
 "metadata": {
  "kernelspec": {
   "display_name": "Python 3",
   "language": "python",
   "name": "python3"
  },
  "language_info": {
   "codemirror_mode": {
    "name": "ipython",
    "version": 3
   },
   "file_extension": ".py",
   "mimetype": "text/x-python",
   "name": "python",
   "nbconvert_exporter": "python",
   "pygments_lexer": "ipython3",
   "version": "3.5.5"
  }
 },
 "nbformat": 4,
 "nbformat_minor": 2
}
