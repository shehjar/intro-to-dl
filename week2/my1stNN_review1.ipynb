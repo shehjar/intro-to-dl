{
 "cells": [
  {
   "cell_type": "code",
   "execution_count": 1,
   "metadata": {},
   "outputs": [
    {
     "name": "stderr",
     "output_type": "stream",
     "text": [
      "C:\\Users\\shekaul\\AppData\\Local\\Continuum\\anaconda3\\envs\\coursera\\lib\\site-packages\\h5py\\__init__.py:34: FutureWarning: Conversion of the second argument of issubdtype from `float` to `np.floating` is deprecated. In future, it will be treated as `np.float64 == np.dtype(float).type`.\n",
      "  from ._conv import register_converters as _register_converters\n",
      "Using TensorFlow backend.\n"
     ]
    },
    {
     "name": "stdout",
     "output_type": "stream",
     "text": [
      "(50000, 28, 28) (50000,)\n"
     ]
    },
    {
     "data": {
      "image/png": "[encoded data removed]",
      "text/plain": [
       "<matplotlib.figure.Figure at 0x4b8e2b0>"
      ]
     },
     "metadata": {},
     "output_type": "display_data"
    }
   ],
   "source": [
    "from preprocessed_mnist import load_dataset\n",
    "X_train, y_train, X_val, y_val, X_test, y_test = load_dataset()\n",
    "print(X_train.shape, y_train.shape)\n",
    "import matplotlib.pyplot as plt\n",
    "%matplotlib inline\n",
    "plt.imshow(X_train[0], cmap=\"Greys\");"
   ]
  },
  {
   "cell_type": "code",
   "execution_count": 2,
   "metadata": {
    "collapsed": true
   },
   "outputs": [],
   "source": [
    "X_train = X_train.reshape((50000,28*28))"
   ]
  },
  {
   "cell_type": "code",
   "execution_count": 3,
   "metadata": {
    "collapsed": true
   },
   "outputs": [],
   "source": [
    "X_test = X_test.reshape((10000, 28*28))"
   ]
  },
  {
   "cell_type": "code",
   "execution_count": 4,
   "metadata": {},
   "outputs": [
    {
     "name": "stdout",
     "output_type": "stream",
     "text": [
      "(50000, 784)\n",
      "(10000, 784)\n",
      "[5 0 4 ... 8 4 8]\n",
      "[7 2 1 ... 4 5 6]\n"
     ]
    }
   ],
   "source": [
    "print(X_train.shape)\n",
    "print(X_test.shape)\n",
    "print(y_train)\n",
    "print(y_test)\n"
   ]
  },
  {
   "cell_type": "code",
   "execution_count": 5,
   "metadata": {
    "collapsed": true
   },
   "outputs": [],
   "source": [
    "import tensorflow as tf"
   ]
  },
  {
   "cell_type": "code",
   "execution_count": 6,
   "metadata": {
    "collapsed": true
   },
   "outputs": [],
   "source": [
    "tf.reset_default_graph()\n",
    "\n",
    "input_X = tf.placeholder(dtype=tf.float32, name = 'input_X', shape=(None,784))\n",
    "input_y = tf.placeholder(dtype=tf.float32, name = 'input_X', shape=(None,10))\n",
    "keep_prob = tf.placeholder(dtype=tf.float32)"
   ]
  },
  {
   "cell_type": "code",
   "execution_count": 7,
   "metadata": {
    "collapsed": true
   },
   "outputs": [],
   "source": [
    "W1 = tf.get_variable('W1', shape=(784,128), initializer=tf.contrib.layers.xavier_initializer())\n",
    "b1 = tf.get_variable('b1', shape=(1, 128), initializer=tf.zeros_initializer())\n",
    "W2 = tf.get_variable('W2', shape=(128,128), initializer=tf.contrib.layers.xavier_initializer())\n",
    "b2 = tf.get_variable('b2', shape=(1,128), initializer=tf.zeros_initializer())\n",
    "W3 = tf.get_variable('W3', shape=(128,10), initializer=tf.contrib.layers.xavier_initializer())\n",
    "b3 = tf.get_variable('b3', shape=(1,10), initializer=tf.zeros_initializer())\n"
   ]
  },
  {
   "cell_type": "code",
   "execution_count": 8,
   "metadata": {
    "collapsed": true
   },
   "outputs": [],
   "source": [
    "z1 = tf.matmul(input_X,W1) + b1\n",
    "a1 = tf.nn.relu(z1)\n",
    "a1 = tf.nn.dropout(a1, keep_prob=keep_prob)\n",
    "z2 = tf.matmul(a1, W2) + b2\n",
    "a2 = tf.nn.relu(z2)\n",
    "a2 = tf.nn.dropout(a2, keep_prob=keep_prob)\n",
    "z3 = tf.matmul(a2, W3) + b3\n",
    "a3 = tf.nn.sigmoid(z3)\n"
   ]
  },
  {
   "cell_type": "code",
   "execution_count": 9,
   "metadata": {
    "collapsed": true
   },
   "outputs": [],
   "source": [
    "loss = tf.reduce_mean( tf.nn.softmax_cross_entropy_with_logits(labels=input_y, logits=a3) )"
   ]
  },
  {
   "cell_type": "code",
   "execution_count": 10,
   "metadata": {},
   "outputs": [
    {
     "name": "stdout",
     "output_type": "stream",
     "text": [
      "Tensor(\"Mean:0\", shape=(), dtype=float32)\n"
     ]
    }
   ],
   "source": [
    "print(loss)"
   ]
  },
  {
   "cell_type": "code",
   "execution_count": 11,
   "metadata": {
    "collapsed": true
   },
   "outputs": [],
   "source": [
    "global_step = tf.Variable(0, trainable=False)\n",
    "learning_rate= tf.train.exponential_decay(0.00036, global_step, 100, 0.85, staircase=True)\n",
    "optimizer = tf.train.AdamOptimizer(learning_rate).minimize(loss)"
   ]
  },
  {
   "cell_type": "code",
   "execution_count": 12,
   "metadata": {
    "collapsed": true
   },
   "outputs": [],
   "source": [
    "import numpy as np\n",
    "y_train_onehot = np.eye(10)[y_train.astype(int)]\n",
    "y_test_onehot = np.eye(10)[y_test.astype(int)]\n"
   ]
  },
  {
   "cell_type": "code",
   "execution_count": 13,
   "metadata": {},
   "outputs": [
    {
     "data": {
      "text/plain": [
       "(50000, 10)"
      ]
     },
     "execution_count": 13,
     "metadata": {},
     "output_type": "execute_result"
    }
   ],
   "source": [
    "y_train_onehot.shape"
   ]
  },
  {
   "cell_type": "code",
   "execution_count": 14,
   "metadata": {},
   "outputs": [
    {
     "name": "stdout",
     "output_type": "stream",
     "text": [
      "Train loss after 10 epochs: 1.5157865\n",
      "Test loss after 10 epochs: 1.515472\n",
      "Train loss after 20 epochs: 1.4969345\n",
      "Test loss after 20 epochs: 1.5001142\n",
      "Train loss after 30 epochs: 1.4867278\n",
      "Test loss after 30 epochs: 1.4917338\n",
      "Train loss after 40 epochs: 1.4808028\n",
      "Test loss after 40 epochs: 1.4876089\n",
      "Train loss after 50 epochs: 1.4769795\n",
      "Test loss after 50 epochs: 1.4848745\n",
      "Train loss after 60 epochs: 1.4741136\n",
      "Test loss after 60 epochs: 1.482971\n",
      "Train loss after 70 epochs: 1.4722103\n",
      "Test loss after 70 epochs: 1.4818896\n",
      "Train loss after 80 epochs: 1.4706953\n",
      "Test loss after 80 epochs: 1.4807419\n",
      "Train loss after 90 epochs: 1.4694148\n",
      "Test loss after 90 epochs: 1.4801687\n",
      "Train loss after 100 epochs: 1.4685408\n",
      "Test loss after 100 epochs: 1.4798303\n",
      "Train loss after 110 epochs: 1.4678093\n",
      "Test loss after 110 epochs: 1.4794418\n",
      "Train loss after 120 epochs: 1.4671787\n",
      "Test loss after 120 epochs: 1.4795357\n",
      "Train loss after 130 epochs: 1.4666868\n",
      "Test loss after 130 epochs: 1.4791421\n",
      "Train loss after 140 epochs: 1.4662422\n",
      "Test loss after 140 epochs: 1.4787879\n",
      "Train loss after 150 epochs: 1.4658157\n",
      "Test loss after 150 epochs: 1.4792602\n",
      "Train loss after 160 epochs: 1.4654809\n",
      "Test loss after 160 epochs: 1.4791962\n",
      "Train loss after 170 epochs: 1.4652011\n",
      "Test loss after 170 epochs: 1.4789789\n",
      "Train loss after 180 epochs: 1.4649575\n",
      "Test loss after 180 epochs: 1.4785402\n",
      "Train loss after 190 epochs: 1.4647044\n",
      "Test loss after 190 epochs: 1.47876\n",
      "Train loss after 200 epochs: 1.4645263\n",
      "Test loss after 200 epochs: 1.479026\n"
     ]
    },
    {
     "data": {
      "image/png": "[encoded data removed]",
      "text/plain": [
       "<matplotlib.figure.Figure at 0x1c5993c8>"
      ]
     },
     "metadata": {},
     "output_type": "display_data"
    },
    {
     "name": "stdout",
     "output_type": "stream",
     "text": [
      "Train Accuracy: 0.99658\n",
      "Test Accuracy: 0.9789\n"
     ]
    }
   ],
   "source": [
    "batch_size = 500\n",
    "with tf.Session() as sess:\n",
    "    sess.run(tf.global_variables_initializer())\n",
    "    train_loss = []\n",
    "    test_loss  = []\n",
    "    for epoch in range(200):\n",
    "        for i in range(0, 50000, 500):\n",
    "            sess.run(optimizer, feed_dict={input_X:X_train[i: i+batch_size], input_y:y_train_onehot[i: i+batch_size], keep_prob:0.65})\n",
    "        train_loss.append(sess.run(loss, feed_dict={input_X:X_train, input_y:y_train_onehot, keep_prob:1.0}))\n",
    "        test_loss.append(sess.run(loss, feed_dict={input_X:X_test, input_y:y_test_onehot, keep_prob:1.0}))\n",
    "        if epoch%10 == 9:\n",
    "            print(\"Train loss after \" + str(epoch+1)+ \" epochs: \"+ str(train_loss[-1]))\n",
    "            print(\"Test loss after \" + str(epoch+1)+ \" epochs: \"+ str(test_loss[-1]))\n",
    "    plt.plot(range(200), train_loss, label='Train')\n",
    "    plt.plot(range(200), test_loss, label='Test')\n",
    "    plt.ylabel('train loss')\n",
    "    plt.xlabel('iterations')\n",
    "    plt.show()\n",
    "\n",
    "    predictions = tf.argmax(a3, 1)\n",
    "    correct_predictions = tf.equal(predictions, tf.argmax(input_y, 1))\n",
    "\n",
    "    # Calculate accuracy on the test set\n",
    "    accuracy = tf.reduce_mean(tf.cast(correct_predictions, \"float\"))\n",
    "    train_accuracy = accuracy.eval({input_X: X_train, input_y: y_train_onehot, keep_prob : 1})\n",
    "    test_accuracy = accuracy.eval({input_X: X_test, input_y: y_test_onehot, keep_prob : 1})\n",
    "    print(\"Train Accuracy:\", train_accuracy)\n",
    "    print(\"Test Accuracy:\", test_accuracy)\n",
    "\n",
    "                \n",
    "            "
   ]
  },
  {
   "cell_type": "code",
   "execution_count": null,
   "metadata": {
    "collapsed": true
   },
   "outputs": [],
   "source": []
  },
  {
   "cell_type": "code",
   "execution_count": null,
   "metadata": {
    "collapsed": true
   },
   "outputs": [],
   "source": []
  }
 ],
 "metadata": {
  "kernelspec": {
   "display_name": "Python 3",
   "language": "python",
   "name": "python3"
  },
  "language_info": {
   "codemirror_mode": {
    "name": "ipython",
    "version": 3
   },
   "file_extension": ".py",
   "mimetype": "text/x-python",
   "name": "python",
   "nbconvert_exporter": "python",
   "pygments_lexer": "ipython3",
   "version": "3.5.5"
  }
 },
 "nbformat": 4,
 "nbformat_minor": 2
}
