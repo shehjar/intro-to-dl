{
 "cells": [
  {
   "cell_type": "code",
   "execution_count": 1,
   "metadata": {
    "collapsed": true
   },
   "outputs": [],
   "source": [
    "import numpy as np\n",
    "import tensorflow as tf\n",
    "from sklearn.metrics import roc_auc_score"
   ]
  },
  {
   "cell_type": "code",
   "execution_count": 2,
   "metadata": {},
   "outputs": [
    {
     "name": "stderr",
     "output_type": "stream",
     "text": [
      "C:\\Users\\shekaul\\AppData\\Local\\Continuum\\anaconda3\\envs\\coursera\\lib\\site-packages\\h5py\\__init__.py:34: FutureWarning: Conversion of the second argument of issubdtype from `float` to `np.floating` is deprecated. In future, it will be treated as `np.float64 == np.dtype(float).type`.\n",
      "  from ._conv import register_converters as _register_converters\n",
      "Using TensorFlow backend.\n"
     ]
    },
    {
     "data": {
      "image/png": "[encoded data removed]",
      "text/plain": [
       "<matplotlib.figure.Figure at 0x1a916358>"
      ]
     },
     "metadata": {},
     "output_type": "display_data"
    }
   ],
   "source": [
    "from preprocessed_mnist import load_dataset\n",
    "X_train, y_train, X_val, y_val, X_test, y_test = load_dataset()\n",
    "import matplotlib.pyplot as plt\n",
    "%matplotlib inline\n",
    "plt.imshow(X_train[1], cmap=\"Greys\");"
   ]
  },
  {
   "cell_type": "code",
   "execution_count": 3,
   "metadata": {},
   "outputs": [
    {
     "name": "stdout",
     "output_type": "stream",
     "text": [
      "loss at iter 0:2.3026\n",
      "train auc: 0.44730002340899633\n",
      "test auc: 0.4467774848644285\n",
      "loss at iter 1000:2.2951\n",
      "train auc: 0.6089822000160476\n",
      "test auc: 0.610169418820387\n",
      "loss at iter 2000:2.2698\n",
      "train auc: 0.6074894793538733\n",
      "test auc: 0.6085945832985046\n",
      "loss at iter 3000:2.2447\n",
      "train auc: 0.6539080425195388\n",
      "test auc: 0.6583971399290627\n",
      "loss at iter 4000:2.2117\n",
      "train auc: 0.7226521486344961\n",
      "test auc: 0.73142039145487\n",
      "loss at iter 5000:2.1221\n",
      "train auc: 0.7790881210625982\n",
      "test auc: 0.7825589480484805\n",
      "loss at iter 6000:2.0866\n",
      "train auc: 0.8191352541400787\n",
      "test auc: 0.8227525502450478\n",
      "loss at iter 7000:2.0255\n",
      "train auc: 0.8781224636233617\n",
      "test auc: 0.8816085103105508\n",
      "loss at iter 8000:1.9260\n",
      "train auc: 0.9010915573932268\n",
      "test auc: 0.9044710772788559\n",
      "loss at iter 9000:1.8385\n",
      "train auc: 0.9283905000246196\n",
      "test auc: 0.9315221697821144\n",
      "loss at iter 10000:1.7704\n",
      "train auc: 0.9533759033322042\n",
      "test auc: 0.9550638835867954\n",
      "loss at iter 11000:1.7143\n",
      "train auc: 0.9636509898423083\n",
      "test auc: 0.9646901111322883\n",
      "loss at iter 12000:1.6748\n",
      "train auc: 0.9710457166563344\n",
      "test auc: 0.9715506025075451\n",
      "loss at iter 13000:1.6830\n",
      "train auc: 0.9746301591416598\n",
      "test auc: 0.9749734496912941\n",
      "loss at iter 14000:1.6190\n",
      "train auc: 0.9761449332643366\n",
      "test auc: 0.9763096584289167\n",
      "loss at iter 15000:1.6895\n",
      "train auc: 0.9772799991270149\n",
      "test auc: 0.977307161926442\n",
      "loss at iter 16000:1.6445\n",
      "train auc: 0.9783870836740813\n",
      "test auc: 0.9783859242874184\n",
      "loss at iter 17000:1.6049\n",
      "train auc: 0.9794734718406204\n",
      "test auc: 0.9794375065517853\n",
      "loss at iter 18000:1.6776\n",
      "train auc: 0.9843023903118595\n",
      "test auc: 0.9846596222321168\n",
      "loss at iter 19000:1.5645\n",
      "train auc: 0.9879143785318952\n",
      "test auc: 0.9883341928860243\n",
      "loss at iter 20000:1.6168\n",
      "train auc: 0.9888916775677205\n",
      "test auc: 0.9893231975397082\n",
      "loss at iter 21000:1.5730\n",
      "train auc: 0.9895163499289161\n",
      "test auc: 0.9899129297112113\n",
      "loss at iter 22000:1.6126\n",
      "train auc: 0.9899201694508666\n",
      "test auc: 0.990307416823273\n",
      "loss at iter 23000:1.5793\n",
      "train auc: 0.9902281106886399\n",
      "test auc: 0.9906288035149379\n",
      "loss at iter 24000:1.5873\n",
      "train auc: 0.9904922462405871\n",
      "test auc: 0.9908661009272786\n",
      "loss at iter 25000:1.5370\n",
      "train auc: 0.9906538813112208\n",
      "test auc: 0.9910570776254177\n",
      "loss at iter 26000:1.5691\n",
      "train auc: 0.9908345073763691\n",
      "test auc: 0.9912318587784072\n",
      "loss at iter 27000:1.5279\n",
      "train auc: 0.9909737895976388\n",
      "test auc: 0.9913748627114576\n",
      "loss at iter 28000:1.5698\n",
      "train auc: 0.9910667446268466\n",
      "test auc: 0.9914722595894323\n",
      "loss at iter 29000:1.5811\n",
      "train auc: 0.9912176752429375\n",
      "test auc: 0.9916024506526494\n",
      "loss at iter 30000:1.5767\n",
      "train auc: 0.9912855812579714\n",
      "test auc: 0.9917003427527833\n",
      "loss at iter 31000:1.5520\n",
      "train auc: 0.9913995439676521\n",
      "test auc: 0.9918048541411203\n",
      "loss at iter 32000:1.5286\n",
      "train auc: 0.9914833840956794\n",
      "test auc: 0.991896433428581\n",
      "loss at iter 33000:1.5255\n",
      "train auc: 0.9915318412783671\n",
      "test auc: 0.9919385681008066\n",
      "loss at iter 34000:1.5453\n",
      "train auc: 0.991648520300363\n",
      "test auc: 0.9920334967656311\n",
      "loss at iter 35000:1.5722\n",
      "train auc: 0.9916826756228628\n",
      "test auc: 0.992089219921813\n",
      "loss at iter 36000:1.5649\n",
      "train auc: 0.9917717462993754\n",
      "test auc: 0.9921627630258867\n",
      "loss at iter 37000:1.5345\n",
      "train auc: 0.991830999926542\n",
      "test auc: 0.9922336198090352\n",
      "loss at iter 38000:1.5770\n",
      "train auc: 0.9918661949654028\n",
      "test auc: 0.9922573982886803\n",
      "loss at iter 39000:1.5379\n",
      "train auc: 0.9919563160926478\n",
      "test auc: 0.9923322166292848\n"
     ]
    },
    {
     "data": {
      "image/png": "[encoded data removed]",
      "text/plain": [
       "<matplotlib.figure.Figure at 0x2019ecf8>"
      ]
     },
     "metadata": {},
     "output_type": "display_data"
    }
   ],
   "source": [
    "X_train_reshape = X_train.reshape((50000, 784))\n",
    "X_test_reshape = X_test.reshape((10000, 784))\n",
    "\n",
    "y_train_reshape = np.zeros((y_train.size, 10))\n",
    "y_train_reshape[np.arange(y_train.size),y_train] = 1\n",
    "y_test_reshape = np.zeros((y_test.size, 10))\n",
    "y_test_reshape[np.arange(y_test.size),y_test] = 1\n",
    "\n",
    "# Variable Init\n",
    "input_x = tf.placeholder('float32', shape=[None,784])\n",
    "input_y = tf.placeholder('float32', shape=[None, 10])\n",
    "weights_1 = tf.Variable(tf.truncated_normal(shape=(784, 50), mean=0.0, stddev=0.001), dtype='float32')\n",
    "weights_2 = tf.Variable(tf.truncated_normal(shape=(50,10), mean=0.0, stddev=0.001), dtype='float32')\n",
    "bias_1 = tf.Variable(tf.ones(shape=(1,50)),dtype='float32')\n",
    "bias_2 = tf.Variable(tf.ones(shape=(1,10)),dtype='float32')\n",
    "\n",
    "# Model Code\n",
    "hidden_layer_1 = tf.nn.relu(tf.add(tf.matmul(input_x,weights_1), bias_1))\n",
    "predicted_y = tf.nn.softmax(tf.add(tf.matmul(hidden_layer_1,weights_2), bias_2))\n",
    "loss = tf.losses.softmax_cross_entropy(input_y, predicted_y)\n",
    "accuracy = tf.metrics.accuracy(tf.argmax(input_y, 1), tf.argmax(predicted_y, 1))\n",
    "optimizer = tf.train.MomentumOptimizer(0.01, 0.5).minimize(loss, var_list=[weights_1,bias_1,weights_2,bias_2])\n",
    "\n",
    "# Training\n",
    "import matplotlib.pyplot as plt\n",
    "sess = tf.Session()\n",
    "sess.run(tf.global_variables_initializer())\n",
    "sess.run(tf.local_variables_initializer())\n",
    "mini_batch_size = 180\n",
    "n_batch = 50000 // mini_batch_size + (50000 % mini_batch_size != 0)\n",
    "lossdata = []\n",
    "predictiondata = []\n",
    "accuracydata = []\n",
    "iters = []\n",
    "for i in range(40000):\n",
    "    i_batch = (i % n_batch)*mini_batch_size\n",
    "    sess.run(optimizer, {input_x: X_train_reshape[i_batch:i_batch+mini_batch_size], input_y: y_train_reshape[i_batch:i_batch+mini_batch_size]})\n",
    "    loss_i = sess.run(loss, {input_x: X_train_reshape[i_batch:i_batch+mini_batch_size], input_y: y_train_reshape[i_batch:i_batch+mini_batch_size]})\n",
    "    lossdata.append(loss_i)\n",
    "    iters.append(i)\n",
    "    if i % 1000 == 0:\n",
    "        print(\"loss at iter %i:%.4f\" % (i, loss_i))\n",
    "        print(\"train auc:\", roc_auc_score(y_train_reshape, sess.run(predicted_y, {input_x:X_train_reshape})))\n",
    "        print(\"test auc:\", roc_auc_score(y_test_reshape, sess.run(predicted_y, {input_x:X_test_reshape})))\n",
    "plt.plot(iters, lossdata)\n",
    "plt.show()"
   ]
  },
  {
   "cell_type": "code",
   "execution_count": 9,
   "metadata": {},
   "outputs": [
    {
     "name": "stdout",
     "output_type": "stream",
     "text": [
      "1.5457807\n",
      "(0.9237, 0.9237)\n"
     ]
    }
   ],
   "source": [
    "test_loss = sess.run(loss, {input_x:X_test_reshape, input_y:y_test_reshape})\n",
    "test_accuracy = sess.run(accuracy, {input_x:X_test_reshape, input_y:y_test_reshape})\n",
    "print(test_loss)\n",
    "print(test_accuracy)\n",
    "#print('Test Set Loss: {0:.2f} and accuracy: {1:0.2f}%'.format(test_loss, test_accuracy*100))"
   ]
  },
  {
   "cell_type": "code",
   "execution_count": null,
   "metadata": {},
   "outputs": [],
   "source": []
  },
  {
   "cell_type": "code",
   "execution_count": null,
   "metadata": {},
   "outputs": [],
   "source": []
  }
 ],
 "metadata": {
  "kernelspec": {
   "display_name": "Python 3",
   "language": "python",
   "name": "python3"
  },
  "language_info": {
   "codemirror_mode": {
    "name": "ipython",
    "version": 3
   },
   "file_extension": ".py",
   "mimetype": "text/x-python",
   "name": "python",
   "nbconvert_exporter": "python",
   "pygments_lexer": "ipython3",
   "version": "3.5.5"
  }
 },
 "nbformat": 4,
 "nbformat_minor": 2
}
